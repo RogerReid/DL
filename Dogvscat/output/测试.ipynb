{
 "cells": [
  {
   "cell_type": "code",
   "execution_count": null,
   "id": "648eb7e4",
   "metadata": {},
   "outputs": [],
   "source": [
    "import winsound\n",
    "\n",
    "tup1=(111,'alpha','beta','gamma',222)\n",
    "print([*tup1])\n",
    "for i in range(100000000000000000):\n",
    "    print(i)\n",
    "\n",
    "duration = 1000\n",
    "freq = 440\n",
    "winsound.Beep(freq, duration)"
   ]
  },
  {
   "cell_type": "code",
   "execution_count": 9,
   "id": "f50860af",
   "metadata": {},
   "outputs": [
    {
     "name": "stdout",
     "output_type": "stream",
     "text": [
      "[111, 'alpha', 'beta', 'gamma', 222]\n"
     ]
    }
   ],
   "source": []
  },
  {
   "cell_type": "code",
   "execution_count": 4,
   "id": "6cbceb7c",
   "metadata": {
    "ExecuteTime": {
     "end_time": "2022-07-27T08:37:37.900535Z",
     "start_time": "2022-07-27T08:37:37.876544Z"
    }
   },
   "outputs": [
    {
     "name": "stdout",
     "output_type": "stream",
     "text": [
      "tensor([[[ 1,  5,  5,  2],\n",
      "         [ 9, -6,  2,  8],\n",
      "         [-3,  7, -9,  1]],\n",
      "\n",
      "        [[-1,  7, -5,  2],\n",
      "         [ 9,  6,  2,  8],\n",
      "         [ 3,  7,  9,  1]]])\n",
      "torch.Size([2, 3, 4])\n",
      "tensor([[1, 2, 0, 1],\n",
      "        [1, 0, 2, 1]])\n",
      "torch.Size([2, 4])\n"
     ]
    }
   ],
   "source": [
    "import torch\n",
    "a=torch.tensor([\n",
    "              [\n",
    "                  [1, 5, 5, 2],\n",
    "                  [9, -6, 2, 8],\n",
    "                  [-3, 7, -9, 1]\n",
    "              ],\n",
    " \n",
    "              [\n",
    "                  [-1, 7, -5, 2],\n",
    "                  [9, 6, 2, 8],\n",
    "                  [3, 7, 9, 1]\n",
    "              ]])\n",
    "b=torch.argmax(a,dim=1)\n",
    "print(a)\n",
    "print(a.shape)\n",
    "print(b)\n",
    "print(b.shape)"
   ]
  },
  {
   "cell_type": "code",
   "execution_count": 7,
   "id": "f8b7b822",
   "metadata": {
    "ExecuteTime": {
     "end_time": "2022-07-27T09:24:12.638432Z",
     "start_time": "2022-07-27T09:24:12.623411Z"
    }
   },
   "outputs": [
    {
     "name": "stdout",
     "output_type": "stream",
     "text": [
      "tensor([[0.0321, 0.0871, 0.2369, 0.6439],\n",
      "        [0.0321, 0.0871, 0.2369, 0.6439],\n",
      "        [0.0321, 0.0871, 0.2369, 0.6439]])\n"
     ]
    }
   ],
   "source": [
    "import torch.nn.functional as F\n",
    "\n",
    "a = torch.Tensor([\n",
    "    [1,2,3,4],\n",
    "    [1,2,3,4],\n",
    "    [1,2,3,4]\n",
    "])\n",
    "\n",
    "a_soft = F.softmax(a, dim=1)\n",
    "print(a_soft)"
   ]
  },
  {
   "cell_type": "code",
   "execution_count": 13,
   "id": "798cf416",
   "metadata": {
    "ExecuteTime": {
     "end_time": "2022-07-28T08:17:54.828594Z",
     "start_time": "2022-07-28T08:17:54.809413Z"
    }
   },
   "outputs": [
    {
     "name": "stdout",
     "output_type": "stream",
     "text": [
      "4\n"
     ]
    }
   ],
   "source": [
    "import random\n",
    "i = random.choice((1, 2, 3, 4))\n",
    "print(i)"
   ]
  },
  {
   "cell_type": "code",
   "execution_count": 22,
   "id": "f20b6a50",
   "metadata": {
    "ExecuteTime": {
     "end_time": "2022-07-28T08:26:39.199367Z",
     "start_time": "2022-07-28T08:26:39.178514Z"
    }
   },
   "outputs": [
    {
     "name": "stdout",
     "output_type": "stream",
     "text": [
      "[1, 2]\n"
     ]
    }
   ],
   "source": [
    "class Solution:\n",
    "    def twoSum(self, nums, target):\n",
    "        self.nums = nums\n",
    "        self.target = target\n",
    "        a = []\n",
    "        for i in nums:\n",
    "            for j in nums[nums.index(i)+1 :]:\n",
    "                if i + j == target:\n",
    "                    a.extend([nums.index(i), nums.index(j)])\n",
    "                    break\n",
    "        return a\n",
    "solution = Solution()\n",
    "print(solution.twoSum([3, 2, 4], 6))"
   ]
  }
 ],
 "metadata": {
  "kernelspec": {
   "display_name": "Python [conda env:pytorch] *",
   "language": "python",
   "name": "conda-env-pytorch-py"
  },
  "language_info": {
   "codemirror_mode": {
    "name": "ipython",
    "version": 3
   },
   "file_extension": ".py",
   "mimetype": "text/x-python",
   "name": "python",
   "nbconvert_exporter": "python",
   "pygments_lexer": "ipython3",
   "version": "3.8.5"
  },
  "toc": {
   "base_numbering": 1,
   "nav_menu": {},
   "number_sections": true,
   "sideBar": true,
   "skip_h1_title": false,
   "title_cell": "Table of Contents",
   "title_sidebar": "Contents",
   "toc_cell": false,
   "toc_position": {},
   "toc_section_display": true,
   "toc_window_display": false
  },
  "varInspector": {
   "cols": {
    "lenName": 16,
    "lenType": 16,
    "lenVar": 40
   },
   "kernels_config": {
    "python": {
     "delete_cmd_postfix": "",
     "delete_cmd_prefix": "del ",
     "library": "var_list.py",
     "varRefreshCmd": "print(var_dic_list())"
    },
    "r": {
     "delete_cmd_postfix": ") ",
     "delete_cmd_prefix": "rm(",
     "library": "var_list.r",
     "varRefreshCmd": "cat(var_dic_list()) "
    }
   },
   "types_to_exclude": [
    "module",
    "function",
    "builtin_function_or_method",
    "instance",
    "_Feature"
   ],
   "window_display": false
  }
 },
 "nbformat": 4,
 "nbformat_minor": 5
}

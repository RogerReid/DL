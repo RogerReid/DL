{
 "cells": [
  {
   "cell_type": "code",
   "execution_count": null,
   "id": "442b677a",
   "metadata": {},
   "outputs": [],
   "source": [
    "import torch\n",
    "train_on_gpu = torch.cuda.is_available()\n",
    "print(train_on_gpu)"
   ]
  },
  {
   "cell_type": "code",
   "execution_count": null,
   "id": "05076545",
   "metadata": {},
   "outputs": [],
   "source": []
  }
 ],
 "metadata": {
  "kernelspec": {
   "display_name": "pytorch",
   "language": "python",
   "name": "pytorch"
  }
 },
 "nbformat": 4,
 "nbformat_minor": 5
}
